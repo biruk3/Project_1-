{
 "cells": [
  {
   "cell_type": "code",
   "execution_count": null,
   "metadata": {},
   "outputs": [],
   "source": [
    "# Simple calcultor\n",
    "\n",
    "\n",
    "# We use this funnciton to add two real numbers. \n",
    "def add(a, b):\n",
    "    return a + b\n",
    "\n",
    "# We use this funnciton to subtract two real numbers.\n",
    "def subtract(a, b):\n",
    "    return a - b\n",
    "\n",
    "# We use this funnciton to multiply two real numbers.\n",
    "def multiply(a, b):\n",
    "    return a * b\n",
    "\n",
    "# We use this funnciton to divide two real numbers.\n",
    "def divide(a, b):\n",
    "    return a / b\n",
    "\n",
    "\n",
    "print(\"Select operation.\")\n",
    "print(\"A.Add\")\n",
    "print(\"S.Subtract\")\n",
    "print(\"M.Multiply\")\n",
    "print(\"D.Divide\")\n",
    "\n",
    "while True:\n",
    "    # Use input from the user\n",
    "    choice = input(\"Enter choice(A/S/M/D/): \")\n",
    "\n",
    "    # Check if choice is one of the four options\n",
    "    if choice in ('A', 'S', 'M', 'D'):\n",
    "        number1 = int(input(\"Please enter first number: \"))\n",
    "        number2 = int(input(\"Please enter second number: \"))\n",
    "\n",
    "        if choice == 'A':\n",
    "            print(number1 + number2) \n",
    "\n",
    "        elif choice == 'S':\n",
    "            print(number1 - number2)\n",
    "\n",
    "        elif choice == 'M':\n",
    "            print(number1 * number2)\n",
    "        elif choice == 'D':\n",
    "            print(number1 / number2)\n",
    "        break\n",
    "    else:\n",
    "        print(\"Error\")"
   ]
  },
  {
   "cell_type": "code",
   "execution_count": null,
   "metadata": {},
   "outputs": [],
   "source": []
  },
  {
   "cell_type": "code",
   "execution_count": null,
   "metadata": {},
   "outputs": [],
   "source": []
  }
 ],
 "metadata": {
  "kernelspec": {
   "display_name": "Python 3",
   "language": "python",
   "name": "python3"
  },
  "language_info": {
   "codemirror_mode": {
    "name": "ipython",
    "version": 3
   },
   "file_extension": ".py",
   "mimetype": "text/x-python",
   "name": "python",
   "nbconvert_exporter": "python",
   "pygments_lexer": "ipython3",
   "version": "3.8.5"
  }
 },
 "nbformat": 4,
 "nbformat_minor": 4
}
